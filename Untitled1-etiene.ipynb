{
  "nbformat": 4,
  "nbformat_minor": 0,
  "metadata": {
    "colab": {
      "provenance": []
    },
    "kernelspec": {
      "name": "python3",
      "display_name": "Python 3"
    },
    "language_info": {
      "name": "python"
    }
  },
  "cells": [
    {
      "cell_type": "code",
      "execution_count": 18,
      "metadata": {
        "colab": {
          "base_uri": "https://localhost:8080/"
        },
        "id": "IyxovB3P6j-r",
        "outputId": "671d0cca-08ea-433c-890c-29e42fce77da"
      },
      "outputs": [
        {
          "output_type": "stream",
          "name": "stdout",
          "text": [
            "['arroz', 'feijão', 'macarrão', 'tomate', 'cebola', 'coentro', ['leite', 'café', 'bolacha', 'manteiga', 'batata'], 'pao', 'biscoito', 'farinha', 'trigo']\n"
          ]
        }
      ],
      "source": [
        "compras=['arroz','feijão','macarrão','tomate','cebola','coentro',['leite','café','bolacha','manteiga','batata'],'pao','biscoito','farinha','trigo']\n",
        "print(compras)\n"
      ]
    },
    {
      "cell_type": "code",
      "source": [
        "compras[2:3]= 'xuxu','cenora'\n",
        "print(compras)\n"
      ],
      "metadata": {
        "colab": {
          "base_uri": "https://localhost:8080/"
        },
        "id": "EKrNo9_9-iaH",
        "outputId": "40a0d0c4-e940-4bbc-ae1b-803c71aa42c5"
      },
      "execution_count": 19,
      "outputs": [
        {
          "output_type": "stream",
          "name": "stdout",
          "text": [
            "['arroz', 'feijão', 'xuxu', 'cenora', 'tomate', 'cebola', 'coentro', ['leite', 'café', 'bolacha', 'manteiga', 'batata'], 'pao', 'biscoito', 'farinha', 'trigo']\n"
          ]
        }
      ]
    },
    {
      "cell_type": "code",
      "source": [
        "compras.pop(1)\n",
        "compras.pop(3)\n",
        "compras.pop(7)\n",
        "compras"
      ],
      "metadata": {
        "colab": {
          "base_uri": "https://localhost:8080/"
        },
        "id": "TSchgUEnATmJ",
        "outputId": "b190f9ba-9d2b-4a2d-e8b8-46c32f2efdbc"
      },
      "execution_count": 20,
      "outputs": [
        {
          "output_type": "execute_result",
          "data": {
            "text/plain": [
              "['arroz',\n",
              " 'xuxu',\n",
              " 'cenora',\n",
              " 'cebola',\n",
              " 'coentro',\n",
              " ['leite', 'café', 'bolacha', 'manteiga', 'batata'],\n",
              " 'pao',\n",
              " 'farinha',\n",
              " 'trigo']"
            ]
          },
          "metadata": {},
          "execution_count": 20
        }
      ]
    },
    {
      "cell_type": "code",
      "source": [
        "compras.insert(1,'colve')\n",
        "compras.insert(3,'maçã')\n",
        "compras.insert(7,'uva')\n",
        "compras\n"
      ],
      "metadata": {
        "colab": {
          "base_uri": "https://localhost:8080/"
        },
        "id": "z9n8eMDsA3q5",
        "outputId": "f0a7ce5a-604e-4160-8f3e-14dde836e599"
      },
      "execution_count": 21,
      "outputs": [
        {
          "output_type": "execute_result",
          "data": {
            "text/plain": [
              "['arroz',\n",
              " 'colve',\n",
              " 'xuxu',\n",
              " 'maçã',\n",
              " 'cenora',\n",
              " 'cebola',\n",
              " 'coentro',\n",
              " 'uva',\n",
              " ['leite', 'café', 'bolacha', 'manteiga', 'batata'],\n",
              " 'pao',\n",
              " 'farinha',\n",
              " 'trigo']"
            ]
          },
          "metadata": {},
          "execution_count": 21
        }
      ]
    },
    {
      "cell_type": "code",
      "source": [
        "compras[2]"
      ],
      "metadata": {
        "colab": {
          "base_uri": "https://localhost:8080/",
          "height": 35
        },
        "id": "4t87mt-RDBww",
        "outputId": "ecb3ce53-69f4-4f2f-b4ad-d0fcbdc44118"
      },
      "execution_count": 22,
      "outputs": [
        {
          "output_type": "execute_result",
          "data": {
            "text/plain": [
              "'xuxu'"
            ],
            "application/vnd.google.colaboratory.intrinsic+json": {
              "type": "string"
            }
          },
          "metadata": {},
          "execution_count": 22
        }
      ]
    },
    {
      "cell_type": "code",
      "source": [
        "compras[4]"
      ],
      "metadata": {
        "colab": {
          "base_uri": "https://localhost:8080/",
          "height": 35
        },
        "id": "IAZft-WNJ2G_",
        "outputId": "d24e6aa1-1dbf-403e-bfed-dc3e3f952bdd"
      },
      "execution_count": 23,
      "outputs": [
        {
          "output_type": "execute_result",
          "data": {
            "text/plain": [
              "'cenora'"
            ],
            "application/vnd.google.colaboratory.intrinsic+json": {
              "type": "string"
            }
          },
          "metadata": {},
          "execution_count": 23
        }
      ]
    },
    {
      "cell_type": "code",
      "source": [
        "len(compras)"
      ],
      "metadata": {
        "colab": {
          "base_uri": "https://localhost:8080/"
        },
        "id": "qF91Z3S9KCWM",
        "outputId": "1aa2d6a7-0b4f-456c-f941-b612c9f310ef"
      },
      "execution_count": 24,
      "outputs": [
        {
          "output_type": "execute_result",
          "data": {
            "text/plain": [
              "12"
            ]
          },
          "metadata": {},
          "execution_count": 24
        }
      ]
    },
    {
      "cell_type": "code",
      "source": [
        "compras"
      ],
      "metadata": {
        "colab": {
          "base_uri": "https://localhost:8080/"
        },
        "id": "uQUch8wGK9Lb",
        "outputId": "5e82e825-5d9b-4951-c171-eec3efbfe89c"
      },
      "execution_count": 25,
      "outputs": [
        {
          "output_type": "execute_result",
          "data": {
            "text/plain": [
              "['arroz',\n",
              " 'colve',\n",
              " 'xuxu',\n",
              " 'maçã',\n",
              " 'cenora',\n",
              " 'cebola',\n",
              " 'coentro',\n",
              " 'uva',\n",
              " ['leite', 'café', 'bolacha', 'manteiga', 'batata'],\n",
              " 'pao',\n",
              " 'farinha',\n",
              " 'trigo']"
            ]
          },
          "metadata": {},
          "execution_count": 25
        }
      ]
    },
    {
      "cell_type": "code",
      "source": [
        "compras[8][0]"
      ],
      "metadata": {
        "colab": {
          "base_uri": "https://localhost:8080/",
          "height": 35
        },
        "id": "DPWE-_nCLPIM",
        "outputId": "649657cd-814f-441b-971b-c18edc254492"
      },
      "execution_count": 26,
      "outputs": [
        {
          "output_type": "execute_result",
          "data": {
            "text/plain": [
              "'leite'"
            ],
            "application/vnd.google.colaboratory.intrinsic+json": {
              "type": "string"
            }
          },
          "metadata": {},
          "execution_count": 26
        }
      ]
    }
  ]
}